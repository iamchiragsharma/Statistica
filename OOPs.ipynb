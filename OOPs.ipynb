{
 "cells": [
  {
   "cell_type": "code",
   "execution_count": 23,
   "metadata": {},
   "outputs": [],
   "source": [
    "class animal():\n",
    "    \n",
    "    disclaimer = \"No animal were harmed during the production of this coding block\" \n",
    "    #! Class attribute common to all the elements\n",
    "    \n",
    "    def __init__(self,name,age,sound):\n",
    "        self.name = name\n",
    "        self.sound = sound\n",
    "        self.age =  age\n",
    "\n",
    "    def data(self):\n",
    "        print(self.name)\n",
    "        print(self.sound)\n",
    "        print(self.age)\n",
    "        \n",
    "    def power(self,pow):\n",
    "        print(\"{} has {} power\".format(self.name,pow))\n",
    "        #cannot reference pow with self since it not already in the initializer __init__\n",
    "        \n",
    "\n",
    "bruno  = animal(\"Bruno\",\"3\",\"Woof! Woof!\")\n",
    "diana  = animal('Diana','5','Woof!!')"
   ]
  },
  {
   "cell_type": "code",
   "execution_count": 13,
   "metadata": {},
   "outputs": [
    {
     "name": "stdout",
     "output_type": "stream",
     "text": [
      "Diana\n",
      "Woof!!\n",
      "5\n",
      "Diana was not harmed during the production of this coding block\n",
      "No animal were harmed during the production of this coding block\n"
     ]
    }
   ],
   "source": [
    "diana.data()\n",
    "diana.disclaimer = \"{} was not harmed during the production of this coding block\".format(diana.name)\n",
    "print(diana.disclaimer)\n",
    "print(bruno.disclaimer)"
   ]
  },
  {
   "cell_type": "code",
   "execution_count": 14,
   "metadata": {},
   "outputs": [
    {
     "name": "stdout",
     "output_type": "stream",
     "text": [
      "Diana has Bark like a normal human power\n"
     ]
    }
   ],
   "source": [
    "diana.power(\"Bark like a normal human\")"
   ]
  },
  {
   "cell_type": "code",
   "execution_count": 64,
   "metadata": {},
   "outputs": [],
   "source": [
    "class dog(animal):\n",
    "    def __init__(self,name,age,sound,speed,color):\n",
    "        self.name = name\n",
    "        self.age = age\n",
    "        self.sound = sound\n",
    "        self.speed = speed\n",
    "        self.color = color\n",
    "        \n",
    "    \n",
    "    def power(self,pow):\n",
    "        return \"{} has the power to move {}\".format(self.name,pow)"
   ]
  },
  {
   "cell_type": "code",
   "execution_count": 65,
   "metadata": {},
   "outputs": [],
   "source": [
    "Tyler = dog('Tyler','3','Bark Loud!!!','30 mph tops','Brown-White with a hint of stupid')"
   ]
  },
  {
   "cell_type": "code",
   "execution_count": 66,
   "metadata": {},
   "outputs": [
    {
     "name": "stdout",
     "output_type": "stream",
     "text": [
      "No animal were harmed during the production of this coding block\n"
     ]
    }
   ],
   "source": [
    "print(Tyler.disclaimer)"
   ]
  },
  {
   "cell_type": "code",
   "execution_count": 68,
   "metadata": {},
   "outputs": [
    {
     "name": "stdout",
     "output_type": "stream",
     "text": [
      "Tyler has the power to move Socks\n"
     ]
    }
   ],
   "source": [
    "Tyler.power('Socks') # Overridden method"
   ]
  },
  {
   "cell_type": "markdown",
   "metadata": {},
   "source": [
    "# Function Overloading in Python Doesn't Work However there is a work around to that."
   ]
  },
  {
   "cell_type": "code",
   "execution_count": 69,
   "metadata": {},
   "outputs": [],
   "source": [
    "def myfunc(name):\n",
    "    print(name)\n",
    "def myfunc(name,surname):\n",
    "    print(name + \" \" + surname)\n",
    "def myfunc(name,surname,work):\n",
    "    print(name + \" \" + surname + \" \" + work)"
   ]
  },
  {
   "cell_type": "code",
   "execution_count": 72,
   "metadata": {},
   "outputs": [
    {
     "name": "stdout",
     "output_type": "stream",
     "text": [
      "Chirag Sharma Already Dead\n"
     ]
    }
   ],
   "source": [
    "#myfunc(\"Chirag\")   <--------- This doesn't work \n",
    "# not gonna work since method overloading is not allowed in python.\n",
    "# however it doesn't raise a flag when we define overloading\n",
    "# the last defination of the function works\n",
    "myfunc(\"Chirag\",\"Sharma\",\"Already Dead\")"
   ]
  },
  {
   "cell_type": "markdown",
   "metadata": {},
   "source": [
    "#  ***args** and  *****kwargs***\n",
    "\n",
    "* **Both are workaround to overloading the functions. They are special keyword argument which allow function to take variable length argument**\n",
    "* ***args passes variable number of non-keyworded arguments(direct values) on which list operations can be performed.**\n",
    "* ****kwargs passes variable number of keyworded arguments as a dictionary to function on which operation of a dictionary can be performed.**\n",
    "* **Order of usage of args and kwargs is fargs,args and kwargs**"
   ]
  },
  {
   "cell_type": "code",
   "execution_count": 29,
   "metadata": {},
   "outputs": [
    {
     "name": "stdout",
     "output_type": "stream",
     "text": [
      "10\n",
      "6\n",
      "3\n",
      "1\n"
     ]
    },
    {
     "ename": "TypeError",
     "evalue": "unsupported operand type(s) for +: 'int' and 'list'",
     "output_type": "error",
     "traceback": [
      "\u001b[0;31m---------------------------------------------------------------------------\u001b[0m",
      "\u001b[0;31mTypeError\u001b[0m                                 Traceback (most recent call last)",
      "\u001b[0;32m<ipython-input-29-c26cd9e0d837>\u001b[0m in \u001b[0;36m<module>\u001b[0;34m\u001b[0m\n\u001b[1;32m     10\u001b[0m \u001b[0;34m\u001b[0m\u001b[0m\n\u001b[1;32m     11\u001b[0m \u001b[0mn\u001b[0m \u001b[0;34m=\u001b[0m \u001b[0;34m[\u001b[0m\u001b[0;36m1\u001b[0m\u001b[0;34m,\u001b[0m\u001b[0;36m2\u001b[0m\u001b[0;34m,\u001b[0m\u001b[0;36m3\u001b[0m\u001b[0;34m]\u001b[0m\u001b[0;34m\u001b[0m\u001b[0;34m\u001b[0m\u001b[0m\n\u001b[0;32m---> 12\u001b[0;31m \u001b[0msumof\u001b[0m\u001b[0;34m(\u001b[0m\u001b[0mn\u001b[0m\u001b[0;34m)\u001b[0m\u001b[0;34m\u001b[0m\u001b[0;34m\u001b[0m\u001b[0m\n\u001b[0m",
      "\u001b[0;32m<ipython-input-29-c26cd9e0d837>\u001b[0m in \u001b[0;36msumof\u001b[0;34m(*args)\u001b[0m\n\u001b[1;32m      2\u001b[0m     \u001b[0ms\u001b[0m \u001b[0;34m=\u001b[0m \u001b[0;36m0\u001b[0m\u001b[0;34m\u001b[0m\u001b[0;34m\u001b[0m\u001b[0m\n\u001b[1;32m      3\u001b[0m     \u001b[0;32mfor\u001b[0m \u001b[0mn\u001b[0m \u001b[0;32min\u001b[0m \u001b[0margs\u001b[0m\u001b[0;34m:\u001b[0m\u001b[0;34m\u001b[0m\u001b[0;34m\u001b[0m\u001b[0m\n\u001b[0;32m----> 4\u001b[0;31m         \u001b[0ms\u001b[0m \u001b[0;34m=\u001b[0m \u001b[0ms\u001b[0m\u001b[0;34m+\u001b[0m\u001b[0mn\u001b[0m\u001b[0;34m\u001b[0m\u001b[0;34m\u001b[0m\u001b[0m\n\u001b[0m\u001b[1;32m      5\u001b[0m     \u001b[0mprint\u001b[0m\u001b[0;34m(\u001b[0m\u001b[0ms\u001b[0m\u001b[0;34m)\u001b[0m\u001b[0;34m\u001b[0m\u001b[0;34m\u001b[0m\u001b[0m\n\u001b[1;32m      6\u001b[0m \u001b[0msumof\u001b[0m\u001b[0;34m(\u001b[0m\u001b[0;36m1\u001b[0m\u001b[0;34m,\u001b[0m\u001b[0;36m2\u001b[0m\u001b[0;34m,\u001b[0m\u001b[0;36m3\u001b[0m\u001b[0;34m,\u001b[0m\u001b[0;36m4\u001b[0m\u001b[0;34m)\u001b[0m\u001b[0;34m\u001b[0m\u001b[0;34m\u001b[0m\u001b[0m\n",
      "\u001b[0;31mTypeError\u001b[0m: unsupported operand type(s) for +: 'int' and 'list'"
     ]
    }
   ],
   "source": [
    "def sumof(*args):\n",
    "    s = 0\n",
    "    for n in args:\n",
    "        s = s+n\n",
    "    print(s)\n",
    "sumof(1,2,3,4)\n",
    "sumof(1,2,3)\n",
    "sumof(1,2)\n",
    "sumof(1)\n",
    "\n",
    "n = [1,2,3]\n",
    "sumof(n)"
   ]
  },
  {
   "cell_type": "code",
   "execution_count": 27,
   "metadata": {},
   "outputs": [
    {
     "name": "stdout",
     "output_type": "stream",
     "text": [
      "name   Chirag\n",
      "name   Chirag\n",
      "classic   High\n",
      "name   Chirag\n",
      "classic   High\n",
      "performance   Getting Better\n"
     ]
    }
   ],
   "source": [
    "def details(**values): #Working of kwargs\n",
    "    for key,items in values.items():\n",
    "        print(key +  \"   \" + items)\n",
    "\n",
    "details(name=\"Chirag\")\n",
    "details(name=\"Chirag\",classic=\"High\")\n",
    "details(name=\"Chirag\",classic=\"High\",performance=\"Getting Better\")"
   ]
  },
  {
   "cell_type": "code",
   "execution_count": null,
   "metadata": {},
   "outputs": [],
   "source": []
  }
 ],
 "metadata": {
  "kernelspec": {
   "display_name": "Python 3",
   "language": "python",
   "name": "python3"
  },
  "language_info": {
   "codemirror_mode": {
    "name": "ipython",
    "version": 3
   },
   "file_extension": ".py",
   "mimetype": "text/x-python",
   "name": "python",
   "nbconvert_exporter": "python",
   "pygments_lexer": "ipython3",
   "version": "3.6.7"
  }
 },
 "nbformat": 4,
 "nbformat_minor": 2
}
