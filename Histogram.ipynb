{
 "cells": [
  {
   "cell_type": "code",
   "execution_count": 2,
   "metadata": {},
   "outputs": [],
   "source": [
    "from collections import Counter\n",
    "import numpy as np\n",
    "import matplotlib.pyplot as plt\n",
    "import seaborn as sb"
   ]
  },
  {
   "cell_type": "code",
   "execution_count": 3,
   "metadata": {},
   "outputs": [
    {
     "data": {
      "text/plain": [
       "{1: 3, 2: 4, 3: 4, 4: 4, 5: 2, 6: 3, 7: 4, 8: 3, 9: 3, 0: 4}"
      ]
     },
     "execution_count": 3,
     "metadata": {},
     "output_type": "execute_result"
    }
   ],
   "source": [
    "sequence = [1,2,3,4,5,6,7,8,9,1,2,3,4,7,8,9,0,3,4,5,6,7,0,0,0,2,3,6,7,4,2,1,8,9]\n",
    "counted = dict(Counter(sequence))\n",
    "counted"
   ]
  },
  {
   "cell_type": "code",
   "execution_count": 4,
   "metadata": {},
   "outputs": [
    {
     "name": "stdout",
     "output_type": "stream",
     "text": [
      "1:+++\n",
      "2:++++\n",
      "3:++++\n",
      "4:++++\n",
      "5:++\n",
      "6:+++\n",
      "7:++++\n",
      "8:+++\n",
      "9:+++\n",
      "0:++++\n"
     ]
    }
   ],
   "source": [
    "#Histogram\n",
    "for key,value in counted.items():\n",
    "    print(str(key)+\":\"+ str('+')*value)"
   ]
  },
  {
   "cell_type": "code",
   "execution_count": 33,
   "metadata": {},
   "outputs": [
    {
     "name": "stdout",
     "output_type": "stream",
     "text": [
      "39.749493656803395\n",
      "2.110265458326227\n"
     ]
    },
    {
     "data": {
      "text/plain": [
       "13"
      ]
     },
     "execution_count": 33,
     "metadata": {},
     "output_type": "execute_result"
    }
   ],
   "source": [
    "np.random.seed(444)\n",
    "np.set_printoptions(precision=3)\n",
    "#laplace curve loc means 'mean' value scale means exponential decay and size means no of size\n",
    "values = np.random.laplace(loc=15,scale=3,size=500)\n",
    "print(max(values))\n",
    "print(min(values))"
   ]
  },
  {
   "cell_type": "code",
   "execution_count": 35,
   "metadata": {},
   "outputs": [
    {
     "name": "stdout",
     "output_type": "stream",
     "text": [
      "[ 13  23  91 261  80  21   7   2   1   1]\n",
      "[ 2.11   5.874  9.638 13.402 17.166 20.93  24.694 28.458 32.222 35.986\n",
      " 39.749]\n"
     ]
    },
    {
     "data": {
      "text/plain": [
       "13"
      ]
     },
     "execution_count": 35,
     "metadata": {},
     "output_type": "execute_result"
    }
   ],
   "source": [
    "hist,bin_edges = np.histogram(values)\n",
    "print(hist)\n",
    "print(bin_edges) \n",
    "#Bin Edges are the spread of minimum value to maximum value by default with 10 equal intervals\n",
    "#hist is the frequency of value between those spreads\n",
    "#There will always be one edge than freqeuncies in total.\n",
    "nearMean = [v for v in values if v  > 2.11 and v < 5.874]\n",
    "len(nearMean)\n",
    "#This can check what is the value between the spreads"
   ]
  },
  {
   "cell_type": "code",
   "execution_count": 43,
   "metadata": {},
   "outputs": [
    {
     "data": {
      "text/plain": [
       "array([ 2.11 ,  5.874,  9.638, 13.402, 17.166, 20.93 , 24.694, 28.458,\n",
       "       32.222, 35.986, 39.749])"
      ]
     },
     "execution_count": 43,
     "metadata": {},
     "output_type": "execute_result"
    }
   ],
   "source": [
    "#Working of bin_edges in histogram\n",
    "min_edge,max_edge = min(values),max(values)\n",
    "edges = np.linspace(start=min_edge,stop=max_edge,num=11,endpoint=True)\n",
    "edges"
   ]
  },
  {
   "cell_type": "code",
   "execution_count": 63,
   "metadata": {},
   "outputs": [
    {
     "data": {
      "image/png": "[encoded data removed]",
      "text/plain": [
       "<Figure size 432x288 with 1 Axes>"
      ]
     },
     "metadata": {
      "needs_background": "light"
     },
     "output_type": "display_data"
    }
   ],
   "source": [
    "n, bins, patches = plt.hist(x=d, bins='auto', color='#0304cc',alpha=0.7, rwidth=0.8)\n",
    "plt.show()\n"
   ]
  },
  {
   "cell_type": "code",
   "execution_count": null,
   "metadata": {},
   "outputs": [],
   "source": []
  }
 ],
 "metadata": {
  "kernelspec": {
   "display_name": "Python 3",
   "language": "python",
   "name": "python3"
  },
  "language_info": {
   "codemirror_mode": {
    "name": "ipython",
    "version": 3
   },
   "file_extension": ".py",
   "mimetype": "text/x-python",
   "name": "python",
   "nbconvert_exporter": "python",
   "pygments_lexer": "ipython3",
   "version": "3.6.7"
  }
 },
 "nbformat": 4,
 "nbformat_minor": 2
}
