{
 "cells": [
  {
   "cell_type": "code",
   "execution_count": 4,
   "metadata": {},
   "outputs": [],
   "source": [
    "import numpy as np\n",
    "import matplotlib.pyplot as plt"
   ]
  },
  {
   "cell_type": "code",
   "execution_count": 12,
   "metadata": {},
   "outputs": [
    {
     "data": {
      "text/plain": [
       "array([0.31473117, 2.30696953, 0.65826554, 1.34279208, 1.28463476,\n",
       "       0.14331079, 4.55468815, 2.6759889 , 1.4734183 , 0.39276698,\n",
       "       6.19523162, 2.47494464, 0.32511897, 1.87098969, 0.35558616,\n",
       "       1.2535096 , 1.35643858, 0.25855168, 1.75261609, 1.16823443,\n",
       "       1.96128186, 1.67411096, 0.18910773, 0.38518177, 2.55896159,\n",
       "       0.75345186, 1.9203511 , 3.45965095, 4.64919719, 1.00941507,\n",
       "       0.39644186, 4.17548787, 3.7325532 , 2.59349272, 0.67658025,\n",
       "       0.96096366, 1.59347624, 0.27663664, 0.93882004, 1.12472648,\n",
       "       0.2107086 , 0.07567317, 0.61190893, 1.13567964, 0.26953074,\n",
       "       0.36505541, 1.1752618 , 0.43742257, 1.38080902, 0.38663538])"
      ]
     },
     "execution_count": 12,
     "metadata": {},
     "output_type": "execute_result"
    }
   ],
   "source": [
    "y = np.random.lognormal(0,1,50)\n",
    "y"
   ]
  },
  {
   "cell_type": "code",
   "execution_count": null,
   "metadata": {},
   "outputs": [],
   "source": []
  }
 ],
 "metadata": {
  "kernelspec": {
   "display_name": "Python 3",
   "language": "python",
   "name": "python3"
  },
  "language_info": {
   "codemirror_mode": {
    "name": "ipython",
    "version": 3
   },
   "file_extension": ".py",
   "mimetype": "text/x-python",
   "name": "python",
   "nbconvert_exporter": "python",
   "pygments_lexer": "ipython3",
   "version": "3.6.7"
  }
 },
 "nbformat": 4,
 "nbformat_minor": 2
}
