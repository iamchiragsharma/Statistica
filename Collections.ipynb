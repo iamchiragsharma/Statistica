{
 "cells": [
  {
   "cell_type": "markdown",
   "metadata": {},
   "source": [
    "## Collections"
   ]
  },
  {
   "cell_type": "markdown",
   "metadata": {},
   "source": []
  },
  {
   "cell_type": "code",
   "execution_count": 25,
   "metadata": {},
   "outputs": [],
   "source": [
    "import collections as col"
   ]
  },
  {
   "cell_type": "markdown",
   "metadata": {},
   "source": [
    "### Counter\n",
    "* <b> Counter allows negative and zero as count too. This is useful while creating a counter by ourselves.\n",
    "* <b> Mapping and passing keyword args works too.\n",
    "* <b> Count of a missing element is zero.\n",
    "* <b> Count can be resetted and also use keyword del to delete a certain count e.g. del cnt2['slash']"
   ]
  },
  {
   "cell_type": "code",
   "execution_count": 26,
   "metadata": {},
   "outputs": [],
   "source": [
    "colors = ['red', 'blue', 'green', 'red', 'black', 'brown', 'green', 'black']\n",
    "cnt = col.Counter(colors)"
   ]
  },
  {
   "cell_type": "code",
   "execution_count": 27,
   "metadata": {},
   "outputs": [
    {
     "name": "stdout",
     "output_type": "stream",
     "text": [
      "Counter({'kills': 5, 'slash': 2})\n",
      "Counter({'kills': 5, 'slash': 0})\n",
      "Counter({'slash': 0})\n"
     ]
    }
   ],
   "source": [
    "cnt2 = Counter({'slash':2,'kills':5})\n",
    "print(cnt2)\n",
    "cnt2['slash'] = 0\n",
    "print(cnt2)\n",
    "del cnt2['kills']\n",
    "print(cnt2)"
   ]
  },
  {
   "cell_type": "markdown",
   "metadata": {},
   "source": [
    "* <b> elements return a iterator over the mentioned Counter form and not necessarily in the fixed order.\n",
    "* <b> if count is less than 1 it will be ignored. See it ignored the dog and the elephant. What a monster.\n",
    "* <b> most_common('digit') returns the most to least common in the passed value or iterator.\n",
    "* <b> if digit is not mentioned it returns whole counter.\n",
    "* <b> elements with equal count are ordered arbritrarily."
   ]
  },
  {
   "cell_type": "code",
   "execution_count": 36,
   "metadata": {},
   "outputs": [
    {
     "name": "stdout",
     "output_type": "stream",
     "text": [
      "['a', 'a', 'a', 'a', 'b', 'b', 'b', 'b', 'b', 'b', 'c', 'c', 'c', 'cat']\n"
     ]
    }
   ],
   "source": [
    "#elements\n",
    "myElements = col.Counter(a=4, b=6, c=3, cat=1, dog = -3, elephant = 0)\n",
    "print(list(myElements.elements()))"
   ]
  },
  {
   "cell_type": "code",
   "execution_count": 39,
   "metadata": {},
   "outputs": [
    {
     "name": "stdout",
     "output_type": "stream",
     "text": [
      "[('t', 8), ('e', 6), ('o', 5)]\n",
      "[('cat', 14), ('dog', 8)]\n"
     ]
    }
   ],
   "source": [
    "#most_common\n",
    "print(col.Counter('powertothealmightywhompoweredustobattlethebullshit').most_common(3))\n",
    "print(col.Counter(dog=8, cat=14, ninja=3,).most_common(2))"
   ]
  },
  {
   "cell_type": "markdown",
   "metadata": {},
   "source": [
    "* <b> substract changes the value of firstval see for yourself"
   ]
  },
  {
   "cell_type": "code",
   "execution_count": 44,
   "metadata": {},
   "outputs": [
    {
     "name": "stdout",
     "output_type": "stream",
     "text": [
      "Counter({'a': 6, 'b': 2, 'c': -4})\n",
      "Counter({'c': 5, 'b': 0, 'a': -3})\n"
     ]
    }
   ],
   "source": [
    "firstval = col.Counter(a=3, b=2, c=1)\n",
    "secondval = col.Counter(a=-3, b=0, c=5)\n",
    "firstval.subtract(secondval)\n",
    "print(firstval)\n",
    "print(secondval)"
   ]
  },
  {
   "cell_type": "markdown",
   "metadata": {},
   "source": [
    "* <b> secondval.most_common()[:-n-1:-1]\n",
    "    where n is the no of results required"
   ]
  },
  {
   "cell_type": "code",
   "execution_count": 48,
   "metadata": {},
   "outputs": [
    {
     "name": "stdout",
     "output_type": "stream",
     "text": [
      "[('a', -3), ('b', 0)]\n"
     ]
    }
   ],
   "source": [
    "#Miscellenous Operations\n",
    "sum(firstval.values())\n",
    "print(secondval.most_common()[:-3:-1])\n",
    "\n",
    "#Also + - for addition and substraction work on python\n",
    "#Also & and | work for AND and UNION"
   ]
  },
  {
   "cell_type": "markdown",
   "metadata": {},
   "source": [
    "## Deque\n",
    "* <b> Deque ends for double ended queue which states that pop and append are possible on both ends.\n",
    "* <b> Deque has approximately O(1) complexity for both ends.\n",
    "* <b> When Deque is at it's capacity and another push is done then it pops out elements from other end.\n",
    "* <b> By defualt initialized left to right.\n",
    "* <b> append and pop works by default on the right side for left specifically mentioned left after them.\n",
    "* <b> rotate works in the same way if positive -> move to the right and negative to left.\n",
    "* <b> "
   ]
  },
  {
   "cell_type": "code",
   "execution_count": 58,
   "metadata": {},
   "outputs": [
    {
     "name": "stdout",
     "output_type": "stream",
     "text": [
      "deque(['till', 'we', 'fall'])\n"
     ]
    }
   ],
   "source": [
    "dq = col.deque(['till','we','fall'])\n",
    "print(dq)"
   ]
  },
  {
   "cell_type": "code",
   "execution_count": 59,
   "metadata": {},
   "outputs": [
    {
     "name": "stdout",
     "output_type": "stream",
     "text": [
      "deque(['rise', 'till', 'we', 'fall', 'yeah!!'])\n"
     ]
    }
   ],
   "source": [
    "dq.appendleft('rise')\n",
    "dq.append('yeah!!')\n",
    "print(dq)"
   ]
  },
  {
   "cell_type": "code",
   "execution_count": 71,
   "metadata": {},
   "outputs": [
    {
     "name": "stdout",
     "output_type": "stream",
     "text": [
      "deque(['rise', 'till', 'we', 'fall', 'yeah!!'])\n"
     ]
    }
   ],
   "source": [
    "#What a sick thing to do.\n",
    "dq.appendleft(dq.pop())\n",
    "print(dq)"
   ]
  },
  {
   "cell_type": "code",
   "execution_count": 72,
   "metadata": {},
   "outputs": [
    {
     "name": "stdout",
     "output_type": "stream",
     "text": [
      "deque(['fall', 'yeah!!', 'rise', 'till', 'we'])\n"
     ]
    }
   ],
   "source": [
    "dq.rotate(2)\n",
    "print(dq)"
   ]
  },
  {
   "cell_type": "markdown",
   "metadata": {},
   "source": [
    "### Ordered Dict"
   ]
  },
  {
   "cell_type": "markdown",
   "metadata": {},
   "source": [
    "* **Difference between a normal dict and ordered dict is that od preserves the order in which the elements are entered.**\n",
    "* **Deleting and re-inserting the same key will push it to the back as OrderedDict however maintains the order of insertion.**"
   ]
  },
  {
   "cell_type": "code",
   "execution_count": 3,
   "metadata": {},
   "outputs": [],
   "source": [
    "from collections import OrderedDict\n",
    "phoneBook = OrderedDict()"
   ]
  },
  {
   "cell_type": "code",
   "execution_count": 5,
   "metadata": {},
   "outputs": [
    {
     "name": "stdout",
     "output_type": "stream",
     "text": [
      "OrderedDict([('Bay', '9205375276'), ('East', '8860431420'), ('South', '7653238453')])\n"
     ]
    }
   ],
   "source": [
    "phoneBook['Bay'] = '9205375276'\n",
    "phoneBook['East'] = '8860431420'\n",
    "phoneBook['South'] = '7653238453'\n",
    "print(phoneBook)\n",
    "#Order of input is preserved."
   ]
  },
  {
   "cell_type": "code",
   "execution_count": null,
   "metadata": {},
   "outputs": [],
   "source": []
  },
  {
   "cell_type": "code",
   "execution_count": null,
   "metadata": {},
   "outputs": [],
   "source": []
  }
 ],
 "metadata": {
  "kernelspec": {
   "display_name": "Python 3",
   "language": "python",
   "name": "python3"
  },
  "language_info": {
   "codemirror_mode": {
    "name": "ipython",
    "version": 3
   },
   "file_extension": ".py",
   "mimetype": "text/x-python",
   "name": "python",
   "nbconvert_exporter": "python",
   "pygments_lexer": "ipython3",
   "version": "3.6.7"
  }
 },
 "nbformat": 4,
 "nbformat_minor": 2
}
