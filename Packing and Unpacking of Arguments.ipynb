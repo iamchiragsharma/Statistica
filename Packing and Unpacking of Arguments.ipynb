{
 "cells": [
  {
   "cell_type": "code",
   "execution_count": 8,
   "metadata": {},
   "outputs": [
    {
     "name": "stdout",
     "output_type": "stream",
     "text": [
      "10\n"
     ]
    }
   ],
   "source": [
    "val  = [1,2,3,4]\n",
    "def add(*values):\n",
    "    summ = 0\n",
    "    for v in val:\n",
    "        summ = summ+v\n",
    "    print(summ)\n",
    "add(*val)\n",
    "        "
   ]
  },
  {
   "cell_type": "code",
   "execution_count": 7,
   "metadata": {},
   "outputs": [
    {
     "name": "stdout",
     "output_type": "stream",
     "text": [
      "range(1, 5)\n"
     ]
    }
   ],
   "source": [
    "#built in range method\n",
    "z = range(1,5)"
   ]
  },
  {
   "cell_type": "code",
   "execution_count": 1,
   "metadata": {},
   "outputs": [
    {
     "name": "stdout",
     "output_type": "stream",
     "text": [
      "36\n"
     ]
    }
   ],
   "source": [
    "#*args and **kwargs\n",
    "#*args is used for non-keyworded arguments while **kwargs is used for keyworded arguments.\n",
    "#order is function_name(formal_arguments,*args,**kwargs)\n",
    "#Can be used in many scenerios where the number of arguments is not fixed.\n",
    "#*args can be tuple or list\n",
    "\n",
    "def addEvery(a,b,*args,**kwargs):\n",
    "    sum = a+b\n",
    "    for arg in args:\n",
    "        sum += arg\n",
    "    for key,val in kwargs.items():\n",
    "        sum += val\n",
    "    print(sum)\n",
    "    \n",
    "kwargs = {'num':7,'num2':8}\n",
    "args = (3,4,5,6) #Can be a list too.\n",
    "addEvery(1,2,*args, **kwargs)"
   ]
  },
  {
   "cell_type": "code",
   "execution_count": null,
   "metadata": {},
   "outputs": [],
   "source": []
  }
 ],
 "metadata": {
  "kernelspec": {
   "display_name": "Python 3",
   "language": "python",
   "name": "python3"
  },
  "language_info": {
   "codemirror_mode": {
    "name": "ipython",
    "version": 3
   },
   "file_extension": ".py",
   "mimetype": "text/x-python",
   "name": "python",
   "nbconvert_exporter": "python",
   "pygments_lexer": "ipython3",
   "version": "3.6.7"
  }
 },
 "nbformat": 4,
 "nbformat_minor": 2
}
